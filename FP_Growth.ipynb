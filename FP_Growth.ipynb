{
  "nbformat": 4,
  "nbformat_minor": 0,
  "metadata": {
    "colab": {
      "provenance": [],
      "collapsed_sections": [
        "0-sKqeYK2-a4"
      ],
      "authorship_tag": "ABX9TyPEpOI0/G3ukwLxpArJ0hWH",
      "include_colab_link": true
    },
    "kernelspec": {
      "name": "python3",
      "display_name": "Python 3"
    },
    "language_info": {
      "name": "python"
    }
  },
  "cells": [
    {
      "cell_type": "markdown",
      "metadata": {
        "id": "view-in-github",
        "colab_type": "text"
      },
      "source": [
        "<a href=\"https://colab.research.google.com/github/SkylarkOff/FP-Growth/blob/main/FP_Growth.ipynb\" target=\"_parent\"><img src=\"https://colab.research.google.com/assets/colab-badge.svg\" alt=\"Open In Colab\"/></a>"
      ]
    },
    {
      "cell_type": "code",
      "execution_count": null,
      "metadata": {
        "colab": {
          "base_uri": "https://localhost:8080/"
        },
        "id": "ec5aGw9VQChB",
        "outputId": "a8b034d5-f1d3-4d3b-e00c-db3f50a2b5d8"
      },
      "outputs": [
        {
          "output_type": "stream",
          "name": "stdout",
          "text": [
            "Mounted at /content/drive\n"
          ]
        }
      ],
      "source": [
        "from google.colab import drive\n",
        "drive.mount('/content/drive')"
      ]
    },
    {
      "cell_type": "code",
      "source": [
        "!pip install mlxtend\n",
        "\n",
        "import pandas as pd\n",
        "from mlxtend.preprocessing import TransactionEncoder\n",
        "from mlxtend.frequent_patterns import fpgrowth, association_rules"
      ],
      "metadata": {
        "colab": {
          "base_uri": "https://localhost:8080/"
        },
        "id": "ePQ7en-vQRin",
        "outputId": "665ad15b-c140-46dd-c5f6-bc078fbab34c"
      },
      "execution_count": null,
      "outputs": [
        {
          "output_type": "stream",
          "name": "stdout",
          "text": [
            "Requirement already satisfied: mlxtend in /usr/local/lib/python3.10/dist-packages (0.23.1)\n",
            "Requirement already satisfied: scipy>=1.2.1 in /usr/local/lib/python3.10/dist-packages (from mlxtend) (1.13.1)\n",
            "Requirement already satisfied: numpy>=1.16.2 in /usr/local/lib/python3.10/dist-packages (from mlxtend) (1.26.4)\n",
            "Requirement already satisfied: pandas>=0.24.2 in /usr/local/lib/python3.10/dist-packages (from mlxtend) (2.2.2)\n",
            "Requirement already satisfied: scikit-learn>=1.0.2 in /usr/local/lib/python3.10/dist-packages (from mlxtend) (1.5.2)\n",
            "Requirement already satisfied: matplotlib>=3.0.0 in /usr/local/lib/python3.10/dist-packages (from mlxtend) (3.7.1)\n",
            "Requirement already satisfied: joblib>=0.13.2 in /usr/local/lib/python3.10/dist-packages (from mlxtend) (1.4.2)\n",
            "Requirement already satisfied: contourpy>=1.0.1 in /usr/local/lib/python3.10/dist-packages (from matplotlib>=3.0.0->mlxtend) (1.3.0)\n",
            "Requirement already satisfied: cycler>=0.10 in /usr/local/lib/python3.10/dist-packages (from matplotlib>=3.0.0->mlxtend) (0.12.1)\n",
            "Requirement already satisfied: fonttools>=4.22.0 in /usr/local/lib/python3.10/dist-packages (from matplotlib>=3.0.0->mlxtend) (4.54.1)\n",
            "Requirement already satisfied: kiwisolver>=1.0.1 in /usr/local/lib/python3.10/dist-packages (from matplotlib>=3.0.0->mlxtend) (1.4.7)\n",
            "Requirement already satisfied: packaging>=20.0 in /usr/local/lib/python3.10/dist-packages (from matplotlib>=3.0.0->mlxtend) (24.1)\n",
            "Requirement already satisfied: pillow>=6.2.0 in /usr/local/lib/python3.10/dist-packages (from matplotlib>=3.0.0->mlxtend) (10.4.0)\n",
            "Requirement already satisfied: pyparsing>=2.3.1 in /usr/local/lib/python3.10/dist-packages (from matplotlib>=3.0.0->mlxtend) (3.1.4)\n",
            "Requirement already satisfied: python-dateutil>=2.7 in /usr/local/lib/python3.10/dist-packages (from matplotlib>=3.0.0->mlxtend) (2.8.2)\n",
            "Requirement already satisfied: pytz>=2020.1 in /usr/local/lib/python3.10/dist-packages (from pandas>=0.24.2->mlxtend) (2024.2)\n",
            "Requirement already satisfied: tzdata>=2022.7 in /usr/local/lib/python3.10/dist-packages (from pandas>=0.24.2->mlxtend) (2024.2)\n",
            "Requirement already satisfied: threadpoolctl>=3.1.0 in /usr/local/lib/python3.10/dist-packages (from scikit-learn>=1.0.2->mlxtend) (3.5.0)\n",
            "Requirement already satisfied: six>=1.5 in /usr/local/lib/python3.10/dist-packages (from python-dateutil>=2.7->matplotlib>=3.0.0->mlxtend) (1.16.0)\n"
          ]
        }
      ]
    },
    {
      "cell_type": "code",
      "source": [
        "file_path = '/content/drive/MyDrive/Colab Notebooks/FP-Growth/Supermart Grocery Sales - Retail Analytics Dataset.csv'\n",
        "\n",
        "df = pd.read_csv(file_path)\n",
        "\n",
        "print(df.columns)\n",
        "print(df.head())"
      ],
      "metadata": {
        "colab": {
          "base_uri": "https://localhost:8080/"
        },
        "id": "bqefyBzfRjHd",
        "outputId": "9142b535-af65-465c-8648-ca49962953a1"
      },
      "execution_count": null,
      "outputs": [
        {
          "output_type": "stream",
          "name": "stderr",
          "text": [
            "/usr/local/lib/python3.10/dist-packages/ipykernel/ipkernel.py:283: DeprecationWarning: `should_run_async` will not call `transform_cell` automatically in the future. Please pass the result to `transformed_cell` argument and any exception that happen during thetransform in `preprocessing_exc_tuple` in IPython 7.17 and above.\n",
            "  and should_run_async(code)\n"
          ]
        },
        {
          "output_type": "stream",
          "name": "stdout",
          "text": [
            "Index(['Order ID', 'Customer Name', 'Category', 'Sub Category', 'City',\n",
            "       'Order Date', 'Region', 'Sales', 'Discount', 'Profit', 'State'],\n",
            "      dtype='object')\n",
            "  Order ID Customer Name          Category      Sub Category         City  \\\n",
            "0      OD1        Harish      Oil & Masala           Masalas      Vellore   \n",
            "1      OD2         Sudha         Beverages     Health Drinks  Krishnagiri   \n",
            "2      OD3       Hussain       Food Grains      Atta & Flour   Perambalur   \n",
            "3      OD4       Jackson  Fruits & Veggies  Fresh Vegetables   Dharmapuri   \n",
            "4      OD5       Ridhesh       Food Grains   Organic Staples         Ooty   \n",
            "\n",
            "   Order Date Region  Sales  Discount  Profit       State  \n",
            "0  11-08-2017  North   1254      0.12  401.28  Tamil Nadu  \n",
            "1  11-08-2017  South    749      0.18  149.80  Tamil Nadu  \n",
            "2  06-12-2017   West   2360      0.21  165.20  Tamil Nadu  \n",
            "3  10-11-2016  South    896      0.25   89.60  Tamil Nadu  \n",
            "4  10-11-2016  South   2355      0.26  918.45  Tamil Nadu  \n"
          ]
        }
      ]
    },
    {
      "cell_type": "markdown",
      "source": [
        "### **Tranformasi Data**"
      ],
      "metadata": {
        "id": "0-sKqeYK2-a4"
      }
    },
    {
      "cell_type": "code",
      "source": [
        "data_transformed = df[['Order ID', 'Category', 'Sub Category']].copy()"
      ],
      "metadata": {
        "colab": {
          "base_uri": "https://localhost:8080/"
        },
        "id": "FXuD0RTz38vI",
        "outputId": "c4c75eee-3b67-4857-d0d7-e20539dd5104"
      },
      "execution_count": null,
      "outputs": [
        {
          "output_type": "stream",
          "name": "stderr",
          "text": [
            "/usr/local/lib/python3.10/dist-packages/ipykernel/ipkernel.py:283: DeprecationWarning: `should_run_async` will not call `transform_cell` automatically in the future. Please pass the result to `transformed_cell` argument and any exception that happen during thetransform in `preprocessing_exc_tuple` in IPython 7.17 and above.\n",
            "  and should_run_async(code)\n"
          ]
        }
      ]
    },
    {
      "cell_type": "code",
      "source": [
        "data_grouped = data_transformed.groupby('Order ID').agg(lambda x: ','.join(x)).reset_index()"
      ],
      "metadata": {
        "colab": {
          "base_uri": "https://localhost:8080/"
        },
        "id": "mmBUwIfe4RuY",
        "outputId": "ed4bad12-05ef-4967-bbcc-b72f3e2257a9"
      },
      "execution_count": null,
      "outputs": [
        {
          "output_type": "stream",
          "name": "stderr",
          "text": [
            "/usr/local/lib/python3.10/dist-packages/ipykernel/ipkernel.py:283: DeprecationWarning: `should_run_async` will not call `transform_cell` automatically in the future. Please pass the result to `transformed_cell` argument and any exception that happen during thetransform in `preprocessing_exc_tuple` in IPython 7.17 and above.\n",
            "  and should_run_async(code)\n"
          ]
        }
      ]
    },
    {
      "cell_type": "code",
      "source": [
        "all_categories = set()\n",
        "all_subcategories = set()\n",
        "\n",
        "for index, row in data_grouped.iterrows():\n",
        "    categories = row['Category'].split(',')\n",
        "    subcategories = row['Sub Category'].split(',')\n",
        "    all_categories.update(categories)\n",
        "    all_subcategories.update(subcategories)"
      ],
      "metadata": {
        "colab": {
          "base_uri": "https://localhost:8080/"
        },
        "id": "Q0Eq0uPC5IAM",
        "outputId": "a5a1dcc9-1af1-4986-8aa5-84d8efa3081d"
      },
      "execution_count": null,
      "outputs": [
        {
          "output_type": "stream",
          "name": "stderr",
          "text": [
            "/usr/local/lib/python3.10/dist-packages/ipykernel/ipkernel.py:283: DeprecationWarning: `should_run_async` will not call `transform_cell` automatically in the future. Please pass the result to `transformed_cell` argument and any exception that happen during thetransform in `preprocessing_exc_tuple` in IPython 7.17 and above.\n",
            "  and should_run_async(code)\n"
          ]
        }
      ]
    },
    {
      "cell_type": "code",
      "source": [
        "for category in all_categories:\n",
        "    data_grouped[category] = data_grouped['Category'].apply(lambda x: 1 if category in x.split(',') else 0)\n",
        "\n",
        "for subcategory in all_subcategories:\n",
        "    data_grouped[subcategory] = data_grouped['Sub Category'].apply(lambda x: 1 if subcategory in x.split(',') else 0)"
      ],
      "metadata": {
        "colab": {
          "base_uri": "https://localhost:8080/"
        },
        "id": "5CuzsXSt5MZR",
        "outputId": "ac0ab2be-8d28-464c-b45a-5de00d071abf"
      },
      "execution_count": null,
      "outputs": [
        {
          "output_type": "stream",
          "name": "stderr",
          "text": [
            "/usr/local/lib/python3.10/dist-packages/ipykernel/ipkernel.py:283: DeprecationWarning: `should_run_async` will not call `transform_cell` automatically in the future. Please pass the result to `transformed_cell` argument and any exception that happen during thetransform in `preprocessing_exc_tuple` in IPython 7.17 and above.\n",
            "  and should_run_async(code)\n"
          ]
        }
      ]
    },
    {
      "cell_type": "code",
      "source": [
        "data_final = data_grouped.drop(columns=['Category', 'Sub Category'])"
      ],
      "metadata": {
        "colab": {
          "base_uri": "https://localhost:8080/"
        },
        "id": "zDJpiZx551Xq",
        "outputId": "344802b1-ee57-4a4b-d7bf-45e76b60bb79"
      },
      "execution_count": null,
      "outputs": [
        {
          "output_type": "stream",
          "name": "stderr",
          "text": [
            "/usr/local/lib/python3.10/dist-packages/ipykernel/ipkernel.py:283: DeprecationWarning: `should_run_async` will not call `transform_cell` automatically in the future. Please pass the result to `transformed_cell` argument and any exception that happen during thetransform in `preprocessing_exc_tuple` in IPython 7.17 and above.\n",
            "  and should_run_async(code)\n"
          ]
        }
      ]
    },
    {
      "cell_type": "code",
      "source": [
        "print(\"\\nTransformed Data:\")\n",
        "print(data_final.head())"
      ],
      "metadata": {
        "colab": {
          "base_uri": "https://localhost:8080/"
        },
        "id": "8fu2cwnq6DtP",
        "outputId": "89c527eb-9db5-417c-8320-b997d05b248b"
      },
      "execution_count": null,
      "outputs": [
        {
          "output_type": "stream",
          "name": "stdout",
          "text": [
            "\n",
            "Transformed Data:\n",
            "  Order ID  Oil & Masala   Meat & Fish  Eggs  Food Grains  Snacks  Bakery  \\\n",
            "0      OD1             1             0     0            0       0       0   \n",
            "1     OD10             0             0     0            0       0       1   \n",
            "2    OD100             1             0     0            0       0       0   \n",
            "3   OD1000             0             0     0            0       0       1   \n",
            "4   OD1001             0             0     0            0       1       0   \n",
            "\n",
            "   Fruits & Veggies  Beverages  Chicken  ...  Cookies  Masalas  Rice  \\\n",
            "0                 0          0        0  ...        0        1     0   \n",
            "1                 0          0        0  ...        0        0     0   \n",
            "2                 0          0        0  ...        0        0     0   \n",
            "3                 0          0        0  ...        0        0     0   \n",
            "4                 0          0        0  ...        1        0     0   \n",
            "\n",
            "   Biscuits  Chocolates  Dals & Pulses  Cakes  Mutton  Fish  Atta & Flour  \n",
            "0         0           0              0      0       0     0             0  \n",
            "1         0           0              0      1       0     0             0  \n",
            "2         0           0              0      0       0     0             0  \n",
            "3         0           0              0      0       0     0             0  \n",
            "4         0           0              0      0       0     0             0  \n",
            "\n",
            "[5 rows x 31 columns]\n"
          ]
        },
        {
          "output_type": "stream",
          "name": "stderr",
          "text": [
            "/usr/local/lib/python3.10/dist-packages/ipykernel/ipkernel.py:283: DeprecationWarning: `should_run_async` will not call `transform_cell` automatically in the future. Please pass the result to `transformed_cell` argument and any exception that happen during thetransform in `preprocessing_exc_tuple` in IPython 7.17 and above.\n",
            "  and should_run_async(code)\n"
          ]
        }
      ]
    },
    {
      "cell_type": "markdown",
      "source": [
        "### **Algoritma FP-Growth**"
      ],
      "metadata": {
        "id": "NfDMeoO4_Wpc"
      }
    },
    {
      "cell_type": "code",
      "source": [
        "frequent_itemsets = fpgrowth(data_final.drop('Order ID', axis=1), min_support=0.01, use_colnames=True)\n",
        "\n",
        "print(\"Frequent Itemsets:\")\n",
        "print(frequent_itemsets)"
      ],
      "metadata": {
        "id": "a_bsD50h6ILa",
        "colab": {
          "base_uri": "https://localhost:8080/"
        },
        "outputId": "82c804de-75a5-4240-b4d6-1329788bb40f"
      },
      "execution_count": null,
      "outputs": [
        {
          "output_type": "stream",
          "name": "stdout",
          "text": [
            "Frequent Itemsets:\n",
            "     support                                itemsets\n",
            "0   0.136182                          (Oil & Masala)\n",
            "1   0.046328                               (Masalas)\n",
            "2   0.141385                                (Bakery)\n",
            "3   0.045227                                 (Cakes)\n",
            "4   0.044727                                (Spices)\n",
            "5   0.050230                         (Breads & Buns)\n",
            "6   0.151491                                (Snacks)\n",
            "7   0.052031                               (Cookies)\n",
            "8   0.140084                             (Beverages)\n",
            "9   0.071943                         (Health Drinks)\n",
            "10  0.049930                            (Chocolates)\n",
            "11  0.149089                          ( Meat & Fish)\n",
            "12  0.036922                                  (Fish)\n",
            "13  0.141885                      (Fruits & Veggies)\n",
            "14  0.035421                      (Fresh Vegetables)\n",
            "15  0.139884                           (Food Grains)\n",
            "16  0.037222                       (Organic Staples)\n",
            "17  0.037923                                  (Eggs)\n",
            "18  0.034721                    (Organic Vegetables)\n",
            "19  0.068141                           (Soft Drinks)\n",
            "20  0.034321                         (Dals & Pulses)\n",
            "21  0.035321                          (Atta & Flour)\n",
            "22  0.045928                              (Biscuits)\n",
            "23  0.049530                               (Noodles)\n",
            "24  0.034821                               (Chicken)\n",
            "25  0.036922                          (Fresh Fruits)\n",
            "26  0.039424                                (Mutton)\n",
            "27  0.045127                     (Edible Oil & Ghee)\n",
            "28  0.034821                        (Organic Fruits)\n",
            "29  0.033020                                  (Rice)\n",
            "30  0.046328                 (Oil & Masala, Masalas)\n",
            "31  0.045227                         (Cakes, Bakery)\n",
            "32  0.044727                  (Oil & Masala, Spices)\n",
            "33  0.050230                 (Breads & Buns, Bakery)\n",
            "34  0.052031                       (Snacks, Cookies)\n",
            "35  0.071943              (Health Drinks, Beverages)\n",
            "36  0.049930                    (Snacks, Chocolates)\n",
            "37  0.036922                    ( Meat & Fish, Fish)\n",
            "38  0.035421    (Fresh Vegetables, Fruits & Veggies)\n",
            "39  0.037222          (Organic Staples, Food Grains)\n",
            "40  0.037923                    ( Meat & Fish, Eggs)\n",
            "41  0.034721  (Organic Vegetables, Fruits & Veggies)\n",
            "42  0.068141                (Beverages, Soft Drinks)\n",
            "43  0.034321            (Dals & Pulses, Food Grains)\n",
            "44  0.035321             (Atta & Flour, Food Grains)\n",
            "45  0.045928                      (Bakery, Biscuits)\n",
            "46  0.049530                       (Snacks, Noodles)\n",
            "47  0.034821                 (Chicken,  Meat & Fish)\n",
            "48  0.036922        (Fresh Fruits, Fruits & Veggies)\n",
            "49  0.039424                  ( Meat & Fish, Mutton)\n",
            "50  0.045127       (Oil & Masala, Edible Oil & Ghee)\n",
            "51  0.034821      (Organic Fruits, Fruits & Veggies)\n",
            "52  0.033020                     (Rice, Food Grains)\n"
          ]
        },
        {
          "output_type": "stream",
          "name": "stderr",
          "text": [
            "/usr/local/lib/python3.10/dist-packages/ipykernel/ipkernel.py:283: DeprecationWarning: `should_run_async` will not call `transform_cell` automatically in the future. Please pass the result to `transformed_cell` argument and any exception that happen during thetransform in `preprocessing_exc_tuple` in IPython 7.17 and above.\n",
            "  and should_run_async(code)\n",
            "/usr/local/lib/python3.10/dist-packages/mlxtend/frequent_patterns/fpcommon.py:109: DeprecationWarning: DataFrames with non-bool types result in worse computationalperformance and their support might be discontinued in the future.Please use a DataFrame with bool type\n",
            "  warnings.warn(\n"
          ]
        }
      ]
    },
    {
      "cell_type": "code",
      "source": [
        "print(frequent_itemsets.sort_values(by='support', ascending=False))"
      ],
      "metadata": {
        "colab": {
          "base_uri": "https://localhost:8080/"
        },
        "id": "p4sC8N8i87aj",
        "outputId": "1ea71d19-41a2-4150-d988-200c42a944cf"
      },
      "execution_count": null,
      "outputs": [
        {
          "output_type": "stream",
          "name": "stdout",
          "text": [
            "     support                                itemsets\n",
            "6   0.151491                                (Snacks)\n",
            "11  0.149089                          ( Meat & Fish)\n",
            "13  0.141885                      (Fruits & Veggies)\n",
            "2   0.141385                                (Bakery)\n",
            "8   0.140084                             (Beverages)\n",
            "15  0.139884                           (Food Grains)\n",
            "0   0.136182                          (Oil & Masala)\n",
            "9   0.071943                         (Health Drinks)\n",
            "35  0.071943              (Health Drinks, Beverages)\n",
            "42  0.068141                (Beverages, Soft Drinks)\n",
            "19  0.068141                           (Soft Drinks)\n",
            "34  0.052031                       (Snacks, Cookies)\n",
            "7   0.052031                               (Cookies)\n",
            "5   0.050230                         (Breads & Buns)\n",
            "33  0.050230                 (Breads & Buns, Bakery)\n",
            "10  0.049930                            (Chocolates)\n",
            "36  0.049930                    (Snacks, Chocolates)\n",
            "46  0.049530                       (Snacks, Noodles)\n",
            "23  0.049530                               (Noodles)\n",
            "30  0.046328                 (Oil & Masala, Masalas)\n",
            "1   0.046328                               (Masalas)\n",
            "45  0.045928                      (Bakery, Biscuits)\n",
            "22  0.045928                              (Biscuits)\n",
            "3   0.045227                                 (Cakes)\n",
            "31  0.045227                         (Cakes, Bakery)\n",
            "50  0.045127       (Oil & Masala, Edible Oil & Ghee)\n",
            "27  0.045127                     (Edible Oil & Ghee)\n",
            "32  0.044727                  (Oil & Masala, Spices)\n",
            "4   0.044727                                (Spices)\n",
            "49  0.039424                  ( Meat & Fish, Mutton)\n",
            "26  0.039424                                (Mutton)\n",
            "40  0.037923                    ( Meat & Fish, Eggs)\n",
            "17  0.037923                                  (Eggs)\n",
            "39  0.037222          (Organic Staples, Food Grains)\n",
            "16  0.037222                       (Organic Staples)\n",
            "12  0.036922                                  (Fish)\n",
            "25  0.036922                          (Fresh Fruits)\n",
            "37  0.036922                    ( Meat & Fish, Fish)\n",
            "48  0.036922        (Fresh Fruits, Fruits & Veggies)\n",
            "14  0.035421                      (Fresh Vegetables)\n",
            "38  0.035421    (Fresh Vegetables, Fruits & Veggies)\n",
            "21  0.035321                          (Atta & Flour)\n",
            "44  0.035321             (Atta & Flour, Food Grains)\n",
            "47  0.034821                 (Chicken,  Meat & Fish)\n",
            "24  0.034821                               (Chicken)\n",
            "51  0.034821      (Organic Fruits, Fruits & Veggies)\n",
            "28  0.034821                        (Organic Fruits)\n",
            "18  0.034721                    (Organic Vegetables)\n",
            "41  0.034721  (Organic Vegetables, Fruits & Veggies)\n",
            "43  0.034321            (Dals & Pulses, Food Grains)\n",
            "20  0.034321                         (Dals & Pulses)\n",
            "29  0.033020                                  (Rice)\n",
            "52  0.033020                     (Rice, Food Grains)\n"
          ]
        },
        {
          "output_type": "stream",
          "name": "stderr",
          "text": [
            "/usr/local/lib/python3.10/dist-packages/ipykernel/ipkernel.py:283: DeprecationWarning: `should_run_async` will not call `transform_cell` automatically in the future. Please pass the result to `transformed_cell` argument and any exception that happen during thetransform in `preprocessing_exc_tuple` in IPython 7.17 and above.\n",
            "  and should_run_async(code)\n"
          ]
        }
      ]
    },
    {
      "cell_type": "code",
      "source": [
        "rules = association_rules(frequent_itemsets, metric=\"lift\", min_threshold=1)\n",
        "\n",
        "print(\"Association Rules:\")\n",
        "print(rules[['antecedents', 'consequents', 'support', 'confidence', 'lift']])"
      ],
      "metadata": {
        "colab": {
          "base_uri": "https://localhost:8080/"
        },
        "id": "Fp68wp2n-Etu",
        "outputId": "09b7305e-b980-4c09-dfdb-17a292bf1d68"
      },
      "execution_count": null,
      "outputs": [
        {
          "output_type": "stream",
          "name": "stdout",
          "text": [
            "Association Rules:\n",
            "             antecedents           consequents   support  confidence      lift\n",
            "0         (Oil & Masala)             (Masalas)  0.046328    0.340191  7.343130\n",
            "1              (Masalas)        (Oil & Masala)  0.046328    1.000000  7.343130\n",
            "2                (Cakes)              (Bakery)  0.045227    1.000000  7.072895\n",
            "3               (Bakery)               (Cakes)  0.045227    0.319887  7.072895\n",
            "4         (Oil & Masala)              (Spices)  0.044727    0.328435  7.343130\n",
            "5               (Spices)        (Oil & Masala)  0.044727    1.000000  7.343130\n",
            "6        (Breads & Buns)              (Bakery)  0.050230    1.000000  7.072895\n",
            "7               (Bakery)       (Breads & Buns)  0.050230    0.355272  7.072895\n",
            "8               (Snacks)             (Cookies)  0.052031    0.343461  6.601057\n",
            "9              (Cookies)              (Snacks)  0.052031    1.000000  6.601057\n",
            "10       (Health Drinks)           (Beverages)  0.071943    1.000000  7.138571\n",
            "11           (Beverages)       (Health Drinks)  0.071943    0.513571  7.138571\n",
            "12              (Snacks)          (Chocolates)  0.049930    0.329590  6.601057\n",
            "13          (Chocolates)              (Snacks)  0.049930    1.000000  6.601057\n",
            "14        ( Meat & Fish)                (Fish)  0.036922    0.247651  6.707383\n",
            "15                (Fish)        ( Meat & Fish)  0.036922    1.000000  6.707383\n",
            "16    (Fresh Vegetables)    (Fruits & Veggies)  0.035421    1.000000  7.047955\n",
            "17    (Fruits & Veggies)    (Fresh Vegetables)  0.035421    0.249647  7.047955\n",
            "18     (Organic Staples)         (Food Grains)  0.037222    1.000000  7.148784\n",
            "19         (Food Grains)     (Organic Staples)  0.037222    0.266094  7.148784\n",
            "20        ( Meat & Fish)                (Eggs)  0.037923    0.254362  6.707383\n",
            "21                (Eggs)        ( Meat & Fish)  0.037923    1.000000  6.707383\n",
            "22  (Organic Vegetables)    (Fruits & Veggies)  0.034721    1.000000  7.047955\n",
            "23    (Fruits & Veggies)  (Organic Vegetables)  0.034721    0.244711  7.047955\n",
            "24           (Beverages)         (Soft Drinks)  0.068141    0.486429  7.138571\n",
            "25         (Soft Drinks)           (Beverages)  0.068141    1.000000  7.138571\n",
            "26       (Dals & Pulses)         (Food Grains)  0.034321    1.000000  7.148784\n",
            "27         (Food Grains)       (Dals & Pulses)  0.034321    0.245351  7.148784\n",
            "28        (Atta & Flour)         (Food Grains)  0.035321    1.000000  7.148784\n",
            "29         (Food Grains)        (Atta & Flour)  0.035321    0.252504  7.148784\n",
            "30              (Bakery)            (Biscuits)  0.045928    0.324841  7.072895\n",
            "31            (Biscuits)              (Bakery)  0.045928    1.000000  7.072895\n",
            "32              (Snacks)             (Noodles)  0.049530    0.326948  6.601057\n",
            "33             (Noodles)              (Snacks)  0.049530    1.000000  6.601057\n",
            "34             (Chicken)        ( Meat & Fish)  0.034821    1.000000  6.707383\n",
            "35        ( Meat & Fish)             (Chicken)  0.034821    0.233557  6.707383\n",
            "36        (Fresh Fruits)    (Fruits & Veggies)  0.036922    1.000000  7.047955\n",
            "37    (Fruits & Veggies)        (Fresh Fruits)  0.036922    0.260226  7.047955\n",
            "38        ( Meat & Fish)              (Mutton)  0.039424    0.264430  6.707383\n",
            "39              (Mutton)        ( Meat & Fish)  0.039424    1.000000  6.707383\n",
            "40        (Oil & Masala)   (Edible Oil & Ghee)  0.045127    0.331374  7.343130\n",
            "41   (Edible Oil & Ghee)        (Oil & Masala)  0.045127    1.000000  7.343130\n",
            "42      (Organic Fruits)    (Fruits & Veggies)  0.034821    1.000000  7.047955\n",
            "43    (Fruits & Veggies)      (Organic Fruits)  0.034821    0.245416  7.047955\n",
            "44                (Rice)         (Food Grains)  0.033020    1.000000  7.148784\n",
            "45         (Food Grains)                (Rice)  0.033020    0.236052  7.148784\n"
          ]
        },
        {
          "output_type": "stream",
          "name": "stderr",
          "text": [
            "/usr/local/lib/python3.10/dist-packages/ipykernel/ipkernel.py:283: DeprecationWarning: `should_run_async` will not call `transform_cell` automatically in the future. Please pass the result to `transformed_cell` argument and any exception that happen during thetransform in `preprocessing_exc_tuple` in IPython 7.17 and above.\n",
            "  and should_run_async(code)\n"
          ]
        }
      ]
    },
    {
      "cell_type": "code",
      "source": [
        "top_rules = rules.sort_values(by='lift', ascending=False)\n",
        "print(\"Top 10 Rules by Lift:\")\n",
        "print(top_rules[['antecedents', 'consequents', 'support', 'confidence', 'lift']])"
      ],
      "metadata": {
        "colab": {
          "base_uri": "https://localhost:8080/"
        },
        "id": "bIrpeKUI-WVc",
        "outputId": "d2be9323-4deb-416a-c4e9-b736e7f8a7c4"
      },
      "execution_count": null,
      "outputs": [
        {
          "output_type": "stream",
          "name": "stdout",
          "text": [
            "Top 10 Rules by Lift:\n",
            "             antecedents           consequents   support  confidence      lift\n",
            "0         (Oil & Masala)             (Masalas)  0.046328    0.340191  7.343130\n",
            "41   (Edible Oil & Ghee)        (Oil & Masala)  0.045127    1.000000  7.343130\n",
            "4         (Oil & Masala)              (Spices)  0.044727    0.328435  7.343130\n",
            "5               (Spices)        (Oil & Masala)  0.044727    1.000000  7.343130\n",
            "40        (Oil & Masala)   (Edible Oil & Ghee)  0.045127    0.331374  7.343130\n",
            "1              (Masalas)        (Oil & Masala)  0.046328    1.000000  7.343130\n",
            "29         (Food Grains)        (Atta & Flour)  0.035321    0.252504  7.148784\n",
            "18     (Organic Staples)         (Food Grains)  0.037222    1.000000  7.148784\n",
            "44                (Rice)         (Food Grains)  0.033020    1.000000  7.148784\n",
            "28        (Atta & Flour)         (Food Grains)  0.035321    1.000000  7.148784\n",
            "27         (Food Grains)       (Dals & Pulses)  0.034321    0.245351  7.148784\n",
            "26       (Dals & Pulses)         (Food Grains)  0.034321    1.000000  7.148784\n",
            "19         (Food Grains)     (Organic Staples)  0.037222    0.266094  7.148784\n",
            "45         (Food Grains)                (Rice)  0.033020    0.236052  7.148784\n",
            "11           (Beverages)       (Health Drinks)  0.071943    0.513571  7.138571\n",
            "24           (Beverages)         (Soft Drinks)  0.068141    0.486429  7.138571\n",
            "25         (Soft Drinks)           (Beverages)  0.068141    1.000000  7.138571\n",
            "10       (Health Drinks)           (Beverages)  0.071943    1.000000  7.138571\n",
            "30              (Bakery)            (Biscuits)  0.045928    0.324841  7.072895\n",
            "3               (Bakery)               (Cakes)  0.045227    0.319887  7.072895\n",
            "7               (Bakery)       (Breads & Buns)  0.050230    0.355272  7.072895\n",
            "2                (Cakes)              (Bakery)  0.045227    1.000000  7.072895\n",
            "6        (Breads & Buns)              (Bakery)  0.050230    1.000000  7.072895\n",
            "31            (Biscuits)              (Bakery)  0.045928    1.000000  7.072895\n",
            "43    (Fruits & Veggies)      (Organic Fruits)  0.034821    0.245416  7.047955\n",
            "42      (Organic Fruits)    (Fruits & Veggies)  0.034821    1.000000  7.047955\n",
            "37    (Fruits & Veggies)        (Fresh Fruits)  0.036922    0.260226  7.047955\n",
            "36        (Fresh Fruits)    (Fruits & Veggies)  0.036922    1.000000  7.047955\n",
            "23    (Fruits & Veggies)  (Organic Vegetables)  0.034721    0.244711  7.047955\n",
            "16    (Fresh Vegetables)    (Fruits & Veggies)  0.035421    1.000000  7.047955\n",
            "17    (Fruits & Veggies)    (Fresh Vegetables)  0.035421    0.249647  7.047955\n",
            "22  (Organic Vegetables)    (Fruits & Veggies)  0.034721    1.000000  7.047955\n",
            "20        ( Meat & Fish)                (Eggs)  0.037923    0.254362  6.707383\n",
            "21                (Eggs)        ( Meat & Fish)  0.037923    1.000000  6.707383\n",
            "15                (Fish)        ( Meat & Fish)  0.036922    1.000000  6.707383\n",
            "39              (Mutton)        ( Meat & Fish)  0.039424    1.000000  6.707383\n",
            "38        ( Meat & Fish)              (Mutton)  0.039424    0.264430  6.707383\n",
            "14        ( Meat & Fish)                (Fish)  0.036922    0.247651  6.707383\n",
            "35        ( Meat & Fish)             (Chicken)  0.034821    0.233557  6.707383\n",
            "34             (Chicken)        ( Meat & Fish)  0.034821    1.000000  6.707383\n",
            "33             (Noodles)              (Snacks)  0.049530    1.000000  6.601057\n",
            "12              (Snacks)          (Chocolates)  0.049930    0.329590  6.601057\n",
            "13          (Chocolates)              (Snacks)  0.049930    1.000000  6.601057\n",
            "32              (Snacks)             (Noodles)  0.049530    0.326948  6.601057\n",
            "9              (Cookies)              (Snacks)  0.052031    1.000000  6.601057\n",
            "8               (Snacks)             (Cookies)  0.052031    0.343461  6.601057\n"
          ]
        },
        {
          "output_type": "stream",
          "name": "stderr",
          "text": [
            "/usr/local/lib/python3.10/dist-packages/ipykernel/ipkernel.py:283: DeprecationWarning: `should_run_async` will not call `transform_cell` automatically in the future. Please pass the result to `transformed_cell` argument and any exception that happen during thetransform in `preprocessing_exc_tuple` in IPython 7.17 and above.\n",
            "  and should_run_async(code)\n"
          ]
        }
      ]
    },
    {
      "cell_type": "code",
      "source": [
        "file_path = '/content/drive/MyDrive/Colab Notebooks/FP-Growth/rules.csv'\n",
        "rules[['antecedents', 'consequents', 'support', 'confidence', 'lift']].to_csv(file_path, index=False)\n",
        "\n",
        "print(f\"File disimpan di: {file_path}\")"
      ],
      "metadata": {
        "colab": {
          "base_uri": "https://localhost:8080/"
        },
        "id": "F8S3gLvCFy4e",
        "outputId": "6c4b75d3-eb22-4ecf-c6f6-0ad2f528b982"
      },
      "execution_count": null,
      "outputs": [
        {
          "output_type": "stream",
          "name": "stdout",
          "text": [
            "File disimpan di: /content/drive/MyDrive/Colab Notebooks/FP-Growth/rules.csv\n"
          ]
        },
        {
          "output_type": "stream",
          "name": "stderr",
          "text": [
            "/usr/local/lib/python3.10/dist-packages/ipykernel/ipkernel.py:283: DeprecationWarning: `should_run_async` will not call `transform_cell` automatically in the future. Please pass the result to `transformed_cell` argument and any exception that happen during thetransform in `preprocessing_exc_tuple` in IPython 7.17 and above.\n",
            "  and should_run_async(code)\n"
          ]
        }
      ]
    }
  ]
}